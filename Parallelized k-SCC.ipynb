{
 "cells": [
  {
   "cell_type": "code",
   "execution_count": 1,
   "id": "09a0a3bc-ede2-48b4-a3a9-d93c0aea88ab",
   "metadata": {},
   "outputs": [],
   "source": [
    "import shutil\n",
    "import os\n",
    "import pandas as pd\n",
    "import matplotlib.pyplot as plt\n",
    "import matplotlib.cm as cm\n",
    "import math\n",
    "import numpy as np\n",
    "from tqdm import tqdm\n",
    "from lib import kscc\n",
    "from lib import kscc_metrics\n",
    "import warnings\n",
    "import csv"
   ]
  },
  {
   "cell_type": "markdown",
   "id": "cbc70b7d-5011-457e-9f5e-4f58c293ca7e",
   "metadata": {},
   "source": [
    "# 0) Constants & methods"
   ]
  },
  {
   "cell_type": "code",
   "execution_count": 2,
   "id": "e80ee1cb-cc6d-42b7-9890-0b775605b134",
   "metadata": {},
   "outputs": [],
   "source": [
    "# maximum number of clusters and seed for algorithm initialization \n",
    "KMAX = 10\n",
    "K_INIT = 3\n",
    "RNDN = 42\n",
    "N_INIT = 100\n",
    "INSCRITOS_PATH = os.path.join(\"datasets\", \"cat_dataset_saber11_inscripciones_fcen_20171_20192.csv\")\n",
    "colors = ['#55CBCD', '#F3B0C3', '#CCE2CB', '#ABDEE6', '#FFCCB6', \n",
    "          '#FFFFB5', '#CBAACB', '#C6DBDA', '#FF968A', '#FEE1E8', \n",
    "          '#FFDBCC', '#ECEAE4', '#A2E1DB', '#97C1A9', '#FFC8A2', \n",
    "          '#ECD5E3' \n",
    "         ]"
   ]
  },
  {
   "cell_type": "code",
   "execution_count": 3,
   "id": "2eabf772-b2f4-4094-bef4-8c5f7f292ab6",
   "metadata": {},
   "outputs": [],
   "source": [
    "def clusterPies_centroids(df_centroids, df_data, attributes, n_cols=4, figsize=(25, 10), bbox_loc=(-0.25, 1.), cat_fontsize=10, sup_fontsize='xx-large', pie_fontsize=30, show=True):\n",
    "    \"\"\"\n",
    "    Plot probabilistic centers as pies for each cluster\n",
    "    and save the images as png files\n",
    "    \"\"\"\n",
    "    \n",
    "    # number of attributes\n",
    "    att_len = len(attributes)\n",
    "\n",
    "    # max number of columns in subplotting\n",
    "    n_cols = n_cols\n",
    "    n_rows = int(np.ceil(att_len/n_cols))\n",
    "\n",
    "    # number of clusters\n",
    "    K = df_centroids.shape[1]\n",
    "\n",
    "    for k, k_name in enumerate(list(df_centroids.columns)):\n",
    "        dfc = df_data[df_data[\"cluster\"]==k]\n",
    "        cases = dfc.shape[0]\n",
    "                \n",
    "        fig = plt.figure(figsize=figsize)\n",
    "        fig.suptitle( k_name + \": \" + \\\n",
    "            f'{cases:,.0f}' + \" casos\", fontsize=sup_fontsize)\n",
    "        \n",
    "        # Transparent background\n",
    "        fig = plt.gcf()\n",
    "        fig.patch.set_alpha(0)\n",
    "\n",
    "        row_indices = completeRowIndices(n_rows-1, n_cols) + [n_rows-1]*(att_len-n_cols*(n_rows-1))\n",
    "        col_indices = list(range(n_cols))*(n_rows-1) + list(range(att_len-n_cols*(n_rows-1)))\n",
    "        atts_and_pos = list(zip(row_indices, col_indices, attributes))\n",
    "        for row, col, att in atts_and_pos:\n",
    "            ax1 = plt.subplot2grid((n_rows, n_cols),(row, col))\n",
    "            dict_sorted = dict(sorted(df_centroids[k_name][att].items(), key=lambda item: item[1], reverse=True))\n",
    "            y = np.array(list(dict_sorted.values()))\n",
    "            x = list(dict_sorted.keys())\n",
    "            patches, texts = plt.pie(y, \n",
    "                                     wedgeprops = { 'linewidth' : 1, 'edgecolor' : 'white' }, \n",
    "                                     colors=colors)\n",
    "            percentages = y*100./y.sum()\n",
    "            labels = ['{0} - {1:1.2f} %'.format(i[:30],j) for i,j in zip(x, percentages)]\n",
    "            patches, labels, dummy =  zip(*sorted(zip(patches, labels, y),\n",
    "                                                  key=lambda x: x[2],\n",
    "                                                  reverse=True))\n",
    "            plt.legend(patches, labels, loc='upper center', bbox_to_anchor=bbox_loc,\n",
    "                       fontsize=cat_fontsize)\n",
    "            plt.title(att, fontsize=pie_fontsize)\n",
    "\n",
    "        plt.savefig(\"{0}/{1}.png\".format(output_folder, 'cluster' + str(k)), dpi=300)\n",
    "        \n",
    "        if not show:\n",
    "            plt.close()\n",
    "\n",
    "def completeRowIndices(n_rows, n_cols):\n",
    "    row_indices = []\n",
    "    for i in range(n_rows):\n",
    "        for j in range(n_cols):\n",
    "            row_indices.append(i)\n",
    "    \n",
    "    return row_indices        \n",
    "\n",
    "def load_data(inscritos_path=INSCRITOS_PATH):\n",
    "    \"\"\"\n",
    "    Load data as a dataframe from a csv file\n",
    "    \"\"\"\n",
    "    \n",
    "    csv_path = os.path.join(inscritos_path)\n",
    "    return pd.read_csv(csv_path, sep=',')\n",
    "\n",
    "def makedirs(path):\n",
    "    \"\"\"\n",
    "    Create folder for output files in case of its absence,\n",
    "    else remove existing directory and to create a new one\n",
    "    \"\"\"\n",
    "    \n",
    "    if not os.path.exists(path):\n",
    "        os.makedirs(path)\n",
    "    else:\n",
    "        shutil.rmtree(path)  # Removes all the subdirectories!\n",
    "        os.makedirs(path)\n",
    "\n",
    "def plot_save_silhouette_diagram(sample_silhouette_values, n_clusters, len_x, output_folder, show=True):\n",
    "    \"\"\"\n",
    "    Plot an save silhouette diagrams for a certain number of clusters,\n",
    "    with the purpose of determine graphically the optimal number of clusters \n",
    "    \"\"\"\n",
    "\n",
    "    silhouette_avg = np.mean(sample_silhouette_values)\n",
    "    \n",
    "    # Create a subplot with 1 row and 2 columns\n",
    "    fig1, ax1 = plt.subplots()\n",
    "    \n",
    "    # The 1st subplot is the silhouette plot\n",
    "    # The silhouette coefficient can range from -1, 1 but in this example all\n",
    "    # lie within [-0.1, 1]\n",
    "    ax1.set_xlim([-0.1, 1])\n",
    "    # The (n_clusters+1)*10 is for inserting blank space between silhouette\n",
    "    # plots of individual clusters, to demarcate them clearly.\n",
    "    ax1.set_ylim([0, len_x + (n_clusters + 1) * 10])\n",
    "    \n",
    "    ax1.set_xlabel(\"Silhouette coefficient\")\n",
    "    ax1.set_ylabel(\"Cluster\")\n",
    "    \n",
    "    # The vertical line for average silhouette score of all the values\n",
    "    ax1.axvline(x=silhouette_avg, color=\"red\", linestyle=\"--\")\n",
    "\n",
    "    ax1.set_yticks([])  # Clear the yaxis labels / ticks\n",
    "    ax1.set_xticks([-0.1, 0, 0.2, 0.4, 0.6, 0.8, 1])\n",
    "\n",
    "    plt.suptitle((r\"#clusters = %d, $s_{%d}$ = %.3f\" % (n_clusters, n_clusters, silhouette_avg)),\n",
    "                 fontsize=13)\n",
    "    \n",
    "    y_lower = 10\n",
    "    for i in range(n_clusters):\n",
    "        # Aggregate the silhouette scores for samples belonging to\n",
    "        # cluster i, and sort them\n",
    "        ith_cluster_silhouette_values = \\\n",
    "            sample_silhouette_values[cluster_labels == i]\n",
    "\n",
    "        ith_cluster_silhouette_values.sort()\n",
    "\n",
    "        size_cluster_i = ith_cluster_silhouette_values.shape[0]\n",
    "        y_upper = y_lower + size_cluster_i\n",
    "\n",
    "        color = colors[i]\n",
    "        ax1.fill_betweenx(np.arange(y_lower, y_upper),\n",
    "                          0, ith_cluster_silhouette_values,\n",
    "                          facecolor=color, \n",
    "                          edgecolor=color\n",
    "                         )\n",
    "\n",
    "        # Label the silhouette plots with their cluster numbers at the middle\n",
    "        ax1.text(-0.05, y_lower + 0.5 * size_cluster_i, str(i))\n",
    "\n",
    "        # Compute the new y_lower for next plot\n",
    "        y_lower = y_upper + 10  # 10 for the 0 samples\n",
    "\n",
    "    plt.savefig(\"{0}/kscc_it_k={1}.png\".format(output_folder, n_clusters), dpi=300)\n",
    "    \n",
    "    if not show:\n",
    "        plt.close()\n",
    "\n",
    "def save_silhouette_averages(results, output_folder, ofile):\n",
    "    \"\"\"\n",
    "    Save all the silhouette averages in a csv file\n",
    "    \"\"\"\n",
    "    \n",
    "    with open(\"{0}/{1}\".format(output_folder,ofile), 'w') as fp:\n",
    "        out = csv.writer(fp)\n",
    "        out.writerows(map(lambda x: [x], results))\n",
    "   "
   ]
  },
  {
   "cell_type": "markdown",
   "id": "de8952b4-acc1-4f9b-b870-7cdac25ba6c2",
   "metadata": {},
   "source": [
    "# 1) k-SCC clustering"
   ]
  },
  {
   "cell_type": "markdown",
   "id": "3113dda5-70dc-42ee-94ae-5cffbdd59799",
   "metadata": {},
   "source": [
    "## 1.1) Data reading"
   ]
  },
  {
   "cell_type": "code",
   "execution_count": 4,
   "id": "2284e951-cb1e-48bc-9f3a-21c9975f03bd",
   "metadata": {},
   "outputs": [],
   "source": [
    "df = load_data() "
   ]
  },
  {
   "cell_type": "code",
   "execution_count": 5,
   "id": "0bea47f2-b38c-4040-9651-6ac6fd609f7e",
   "metadata": {},
   "outputs": [
    {
     "name": "stdout",
     "output_type": "stream",
     "text": [
      "<class 'pandas.core.frame.DataFrame'>\n",
      "RangeIndex: 4011 entries, 0 to 4010\n",
      "Data columns (total 10 columns):\n",
      " #   Column                  Non-Null Count  Dtype \n",
      "---  ------                  --------------  ----- \n",
      " 0   fami_tienecomputador    4011 non-null   object\n",
      " 1   fami_tieneautomovil     4011 non-null   object\n",
      " 2   fami_educacionmadre     4011 non-null   object\n",
      " 3   fami_trabajolabormadre  4011 non-null   object\n",
      " 4   fami_estratovivienda    4011 non-null   object\n",
      " 5   cole_naturaleza         4011 non-null   object\n",
      " 6   cole_jornada            4011 non-null   object\n",
      " 7   punt_global_cuartil     4011 non-null   object\n",
      " 8   nlprog_mod              4011 non-null   object\n",
      " 9   admitido                4011 non-null   object\n",
      "dtypes: object(10)\n",
      "memory usage: 313.5+ KB\n"
     ]
    }
   ],
   "source": [
    "df.info()"
   ]
  },
  {
   "cell_type": "code",
   "execution_count": 6,
   "id": "13d63efb-03b0-466b-91d6-662546e0c102",
   "metadata": {},
   "outputs": [],
   "source": [
    "carrera = \"ASTRONOMÍA\"\n",
    "condicion = df[\"nlprog_mod\"] == carrera\n",
    "df_carrera = df[condicion].drop(columns=[\"nlprog_mod\"])"
   ]
  },
  {
   "cell_type": "code",
   "execution_count": 7,
   "id": "99c8ae04-c815-494e-ba8b-0cb1532cc1a4",
   "metadata": {},
   "outputs": [
    {
     "name": "stdout",
     "output_type": "stream",
     "text": [
      "<class 'pandas.core.frame.DataFrame'>\n",
      "Index: 659 entries, 2467 to 3125\n",
      "Data columns (total 9 columns):\n",
      " #   Column                  Non-Null Count  Dtype \n",
      "---  ------                  --------------  ----- \n",
      " 0   fami_tienecomputador    659 non-null    object\n",
      " 1   fami_tieneautomovil     659 non-null    object\n",
      " 2   fami_educacionmadre     659 non-null    object\n",
      " 3   fami_trabajolabormadre  659 non-null    object\n",
      " 4   fami_estratovivienda    659 non-null    object\n",
      " 5   cole_naturaleza         659 non-null    object\n",
      " 6   cole_jornada            659 non-null    object\n",
      " 7   punt_global_cuartil     659 non-null    object\n",
      " 8   admitido                659 non-null    object\n",
      "dtypes: object(9)\n",
      "memory usage: 51.5+ KB\n"
     ]
    }
   ],
   "source": [
    "df_carrera.info()"
   ]
  },
  {
   "cell_type": "markdown",
   "id": "34033aa0-57ff-4714-b17b-067b523315f1",
   "metadata": {},
   "source": [
    "## 1.2) Silhouette scores: determining the optimal number of clusters"
   ]
  },
  {
   "cell_type": "code",
   "execution_count": 8,
   "id": "30c72366-2d33-4cef-ac11-0e0564ca0d53",
   "metadata": {},
   "outputs": [
    {
     "name": "stderr",
     "output_type": "stream",
     "text": [
      "100%|████████████████████████████████████████████████████████████████████████████████████| 8/8 [04:45<00:00, 35.65s/it]\n"
     ]
    }
   ],
   "source": [
    "ofile = \"kscc_it.csv\"\n",
    "output_folder = \"output\"\n",
    "makedirs(output_folder)\n",
    "\n",
    "\"\"\"\n",
    "MAIN LOOP: the steps of k-SCC are carried out. \n",
    "Cluster labels and probabilistic centers are determined \n",
    "for each number of clusters k (k in [K_INIT, KMAX]),\n",
    "after that it is computed all observations silhouette values  \n",
    "and plotted the silhouette diagram for each k\n",
    "along with its respective silhouette score,\n",
    "this with the goal of determining the optimal number of clusters.\n",
    "\"\"\"\n",
    "\n",
    "x = df_carrera.to_numpy()\n",
    "cluster_labels_per_k = []\n",
    "centroids_per_k = []\n",
    "results_silhouette_avg = []\n",
    "for n_clusters in tqdm(range(K_INIT, KMAX+1)):\n",
    "    \"\"\"\n",
    "    Given a numbers of clusters, the clustering step of the k-SCC algorithm is carried out N_INIT times.\n",
    "    N_INIT should be big enough for avoiding suboptimal solutions on cost function minimization. \n",
    "    The N_INIT clustering steps are carried out in parallel\n",
    "    using n_jobs threads, after that it is selected the best result, \n",
    "    namely the one where the cost function is minimal.\n",
    "    \"\"\"\n",
    "    \n",
    "    kscc_object = kscc.KSCC_Kernel_IT(n_clusters=n_clusters, n_init=N_INIT, verbose=0, n_jobs=-1)\n",
    "    kscc_object.fit_predict(x)\n",
    "    cluster_labels = kscc_object.labels_\n",
    "    cluster_labels_per_k.append(cluster_labels)\n",
    "    centroids_per_k.append(kscc_object.cluster_centroids_)\n",
    "\n",
    "    # The silhouette_score gives the average value for all the samples.\n",
    "    # This gives a perspective into the density and separation of the formed clusters\n",
    "    _distance = kscc.pairwise_distances(x)\n",
    "    sample_silhouette_values, silhouette_avg = kscc_metrics.silhouette_score(x, cluster_labels,_distance)\n",
    "    results_silhouette_avg.append(silhouette_avg)\n",
    "\n",
    "    # Plot and save each silhouette diagram\n",
    "    plot_save_silhouette_diagram(sample_silhouette_values=sample_silhouette_values,\n",
    "                                 n_clusters=n_clusters, \n",
    "                                 len_x=len(x), \n",
    "                                 output_folder=output_folder, \n",
    "                                 show=False)\n",
    "    \n",
    "# Save silhouette averages in a csv file\n",
    "save_silhouette_averages(results=results_silhouette_avg, output_folder=output_folder, ofile=ofile)"
   ]
  },
  {
   "cell_type": "markdown",
   "id": "6a780817-57bd-42c6-8415-622e65aa934f",
   "metadata": {},
   "source": [
    "## 1.3) Visualization of probabilistic centers"
   ]
  },
  {
   "cell_type": "code",
   "execution_count": 9,
   "id": "80f2e69e-27f0-4fdf-8e94-3738da5aa0c6",
   "metadata": {},
   "outputs": [
    {
     "name": "stdin",
     "output_type": "stream",
     "text": [
      "Ingresa el número de clusters:  5\n"
     ]
    }
   ],
   "source": [
    "n_clusters = int(input(\"Ingresa el número de clusters: \"))\n",
    "cols = [col for col in df_carrera.columns if col not in [\"cluster\"]]\n",
    "all_cluster_labels = ['Primer Cluster', 'Segundo Cluster', 'Tercer Cluster', 'Cuarto Cluster', 'Quinto Cluster', \n",
    "                      'Sexto Cluster', 'Séptimo Cluster', 'Octavo Cluster', 'Noveno Cluster', 'Décimo Cluster']\n",
    "index = all_cluster_labels[:n_clusters]\n",
    "# Create the centroids data frame\n",
    "df_centroids = pd.DataFrame(centroids_per_k[n_clusters-K_INIT], columns = cols, index = index).T\n",
    "\n",
    "# from defaultdict to dict\n",
    "for column in df_centroids.columns:\n",
    "    for row in df_centroids.index:\n",
    "        df_centroids[column][row] = dict(df_centroids[column][row]) "
   ]
  },
  {
   "cell_type": "code",
   "execution_count": 10,
   "id": "d2c8bc32-78bd-4c21-aead-c8d40e9e350d",
   "metadata": {},
   "outputs": [],
   "source": [
    "# Visualization of probabilistic centers through pie diagrams\n",
    "df_pies = df_carrera.copy()\n",
    "df_pies['cluster'] = cluster_labels_per_k[n_clusters-K_INIT]\n",
    "important_attributes = list(df_centroids.index)[::-1]                 \n",
    "            \n",
    "clusterPies_centroids(df_centroids=df_centroids, \n",
    "                      df_data=df_pies, \n",
    "                      attributes=important_attributes, \n",
    "                      n_cols=3, \n",
    "                      figsize=(40, 20), \n",
    "                      bbox_loc=(-0.5, 1.), \n",
    "                      cat_fontsize=15,\n",
    "                      pie_fontsize=20,\n",
    "                      sup_fontsize=25,\n",
    "                      show=False\n",
    "                     )\n"
   ]
  }
 ],
 "metadata": {
  "kernelspec": {
   "display_name": "Python 3 (ipykernel)",
   "language": "python",
   "name": "python3"
  },
  "language_info": {
   "codemirror_mode": {
    "name": "ipython",
    "version": 3
   },
   "file_extension": ".py",
   "mimetype": "text/x-python",
   "name": "python",
   "nbconvert_exporter": "python",
   "pygments_lexer": "ipython3",
   "version": "3.11.7"
  }
 },
 "nbformat": 4,
 "nbformat_minor": 5
}
